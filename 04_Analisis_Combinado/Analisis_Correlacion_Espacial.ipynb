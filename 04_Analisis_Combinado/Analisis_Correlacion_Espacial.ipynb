{
 "cells": [
  {
   "cell_type": "markdown",
   "metadata": {},
   "source": [
    "# Análisis estadísticos"
   ]
  },
  {
   "cell_type": "markdown",
   "metadata": {},
   "source": [
    "En este ***notebook*** se presentan de manera reproducible los análisis estadísticos del artículo \"**PRIMER REGISTRO DEL GÉNERO DE DINOFLAGELADO TECADO METADINOPHYSIS NIE & WANG (DINOPHYCEAE: DINOPHYSIALES) Y ANÁLISIS DE SU DENSIDAD EN ÁREAS COSTERAS DEL PACIFICO COLOMBIANO**\". "
   ]
  },
  {
   "cell_type": "markdown",
   "metadata": {},
   "source": [
    "## Librerías para el análisis"
   ]
  },
  {
   "cell_type": "markdown",
   "metadata": {},
   "source": [
    "Librerías usadas en este análisis.\n",
    "\n",
    "Para instalar las librerías a usar en este análisis se deben ejecutar los siiguientes comandos:\n",
    "```conda\n",
    "conda install geopandas\n",
    "conda install --channel conda-forge esda\n",
    "conda install -c conda-forge splot\n",
    "conda install seaborn\n",
    "\n",
    "```"
   ]
  },
  {
   "cell_type": "code",
   "execution_count": 1,
   "metadata": {},
   "outputs": [],
   "source": [
    "%matplotlib inline\n",
    "#Librerías utilizadas para este análisis.\n",
    "\n",
    "#Manipulación de datos\n",
    "import geopandas as gpd\n",
    "import pandas as pd\n",
    "\n",
    "#Análisis de autocorrelación espacial\n",
    "import matplotlib.pyplot as plt\n",
    "from esda.moran import Moran\n",
    "from libpysal.weights.contiguity import Queen\n",
    "from splot.esda import moran_scatterplot\n",
    "from splot.esda import plot_moran\n",
    "\n",
    "#Análisis estadísticos\n",
    "from seaborn import boxplot as bxp\n",
    "from scipy.stats  import kruskal\n",
    "from scipy.stats import mannwhitneyu"
   ]
  },
  {
   "cell_type": "markdown",
   "metadata": {},
   "source": []
  }
 ],
 "metadata": {
  "kernelspec": {
   "display_name": "Python 3.8.8 ('base')",
   "language": "python",
   "name": "python3"
  },
  "language_info": {
   "codemirror_mode": {
    "name": "ipython",
    "version": 3
   },
   "file_extension": ".py",
   "mimetype": "text/x-python",
   "name": "python",
   "nbconvert_exporter": "python",
   "pygments_lexer": "ipython3",
   "version": "3.8.8"
  },
  "orig_nbformat": 4,
  "vscode": {
   "interpreter": {
    "hash": "89b4a59f0f2fa0f498f02deac39ac1378c48e05d3b3a317a16a5dd93273a041a"
   }
  }
 },
 "nbformat": 4,
 "nbformat_minor": 2
}
